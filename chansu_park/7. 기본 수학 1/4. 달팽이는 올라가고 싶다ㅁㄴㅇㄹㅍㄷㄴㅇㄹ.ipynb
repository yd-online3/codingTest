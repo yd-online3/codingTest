{
 "cells": [
  {
   "cell_type": "code",
   "execution_count": 30,
   "id": "eacb3809",
   "metadata": {},
   "outputs": [
    {
     "name": "stdout",
     "output_type": "stream",
     "text": [
      "5 1 6\n",
      "1 으어어어\n",
      "2 으어어어\n",
      "2 넌밥값\n"
     ]
    }
   ],
   "source": [
    "a,b,v = input().split()\n",
    "a = int(a)\n",
    "b = int(b)\n",
    "v = int(v)\n",
    "\n",
    "x=0\n",
    "\n",
    "for i in range(1,v+1): #근데 한무 반복임\n",
    "    if x < v:\n",
    "        x += a\n",
    "        if x >= v:\n",
    "            print(i)\n",
    "            break\n",
    "        else:\n",
    "            x -= b\n"
   ]
  },
  {
   "cell_type": "code",
   "execution_count": 39,
   "id": "90445155",
   "metadata": {},
   "outputs": [
    {
     "name": "stdout",
     "output_type": "stream",
     "text": [
      "2 1 5\n",
      "0\n"
     ]
    }
   ],
   "source": [
    "a,b,v = input().split()  #adfacioensdf 으어 모르겠어\n",
    "a = int(a)\n",
    "b = int(b)\n",
    "v = int(v)\n",
    "\n",
    "x=0\n",
    "\n",
    "print((v-1)%(a-b))\n",
    "\n",
    "#print((v-1)/(a-b)) "
   ]
  },
  {
   "cell_type": "code",
   "execution_count": null,
   "id": "7b542678",
   "metadata": {},
   "outputs": [],
   "source": []
  }
 ],
 "metadata": {
  "kernelspec": {
   "display_name": "Python 3 (ipykernel)",
   "language": "python",
   "name": "python3"
  },
  "language_info": {
   "codemirror_mode": {
    "name": "ipython",
    "version": 3
   },
   "file_extension": ".py",
   "mimetype": "text/x-python",
   "name": "python",
   "nbconvert_exporter": "python",
   "pygments_lexer": "ipython3",
   "version": "3.9.7"
  }
 },
 "nbformat": 4,
 "nbformat_minor": 5
}
