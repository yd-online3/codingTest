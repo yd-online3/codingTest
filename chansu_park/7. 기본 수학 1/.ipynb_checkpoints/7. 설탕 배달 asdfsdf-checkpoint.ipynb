{
 "cells": [
  {
   "cell_type": "code",
   "execution_count": 29,
   "id": "eacb3809",
   "metadata": {},
   "outputs": [
    {
     "name": "stdout",
     "output_type": "stream",
     "text": [
      "18\n",
      "4 1\n",
      "a/5 3.6\n",
      "a/3 6.0\n",
      "a%5 3\n",
      "a%3 0\n"
     ]
    }
   ],
   "source": [
    "a = int(input())\n",
    "\n",
    "if (a/5)<(a/3):  #5로 나눈 몫이 3으로 나눈 몫보다 적은가?\n",
    "        print(int(a%5 + (a%5)/3),\"1\")\n",
    "elif (a/5)<(a/3):\n",
    "    if a%5 > a%3:\n",
    "        print(int(a/3),\"2\")\n",
    "    else:\n",
    "        print(-1,\"의니\")\n",
    "else:\n",
    "        print(-1)\n",
    "\n",
    "print(\"a/5\",a/5)\n",
    "print(\"a/3\",a/3)\n",
    "print(\"a%5\",a%5)\n",
    "print(\"a%3\",a%3)"
   ]
  },
  {
   "cell_type": "code",
   "execution_count": null,
   "id": "f97c1b49",
   "metadata": {},
   "outputs": [],
   "source": []
  }
 ],
 "metadata": {
  "kernelspec": {
   "display_name": "Python 3 (ipykernel)",
   "language": "python",
   "name": "python3"
  },
  "language_info": {
   "codemirror_mode": {
    "name": "ipython",
    "version": 3
   },
   "file_extension": ".py",
   "mimetype": "text/x-python",
   "name": "python",
   "nbconvert_exporter": "python",
   "pygments_lexer": "ipython3",
   "version": "3.9.7"
  }
 },
 "nbformat": 4,
 "nbformat_minor": 5
}
