{
 "cells": [
  {
   "cell_type": "code",
   "execution_count": null,
   "id": "eacb3809",
   "metadata": {},
   "outputs": [],
   "source": [
    "# 월드전자는 노트북을 제조하고 판매하는 회사이다. 노트북 판매 대수에 상관없이 매년 임대료, 재산세, 보험료, 급여 등 A만원의 고정 비용이\n",
    "# 들며, 한 대의 노트북을 생산하는 데에는 재료비와 인건비 등 총 B만원의 가변 비용이 든다고 한다.\n",
    "\n",
    "#예를 들어 A=1,000, B=70이라고 하자. 이 경우 노트북을 한 대 생산하는 데는 총 1,070만원이 들며, 열 대 생산하는 데는\n",
    "#총 1,700만원이 든다.\n",
    "\n",
    "#노트북 가격이 C만원으로 책정되었다고 한다. 일반적으로 생산 대수를 늘려 가다 보면 어느 순간 총 수입(판매비용)이 \n",
    "#총 비용(=고정비용+가변비용)보다 많아지게 된다. 최초로 총 수입이 총 비용보다 많아져 이익이 발생하는 지점을 \n",
    "#손익분기점(BREAK-EVEN POINT)이라고 한다.\n",
    "\n",
    "#A, B, C가 주어졌을 때, 손익분기점을 구하는 프로그램을 작성하시오.\n",
    "\n"
   ]
  },
  {
   "cell_type": "code",
   "execution_count": 1,
   "id": "7a959fa9",
   "metadata": {},
   "outputs": [],
   "source": [
    "#\"입력\"\n",
    "#첫째 줄에 A, B, C가 빈 칸을 사이에 두고 순서대로 주어진다. A, B, C는 21억 이하의 자연수이다.\n",
    "\n",
    "#\"출력\"\n",
    "#첫 번째 줄에 손익분기점 즉 최초로 이익이 발생하는 판매량을 출력한다. 손익분기점이 존재하지 않으면 -1을 출력한다."
   ]
  },
  {
   "cell_type": "code",
   "execution_count": 16,
   "id": "10f6880b",
   "metadata": {},
   "outputs": [
    {
     "name": "stdout",
     "output_type": "stream",
     "text": [
      "3 2 1\n",
      "-1\n"
     ]
    }
   ],
   "source": [
    "A,B,C = input().split()\n",
    "\n",
    "A = int(A)\n",
    "B = int(B)\n",
    "C = int(C)\n",
    "\n",
    "#1를 더하는 이유는 추가로 1대를 더 팔았을때부터 Break-even Point\n",
    "\n",
    "if C <= B:     # C>B으로 하면 ZeroDivisionError 0까지 되므로...\n",
    "    print(-1)\n",
    "else:\n",
    "    print(int((A/(C-B))+1))\n"
   ]
  },
  {
   "cell_type": "code",
   "execution_count": null,
   "id": "47d59435",
   "metadata": {},
   "outputs": [],
   "source": [
    "A,B,C = input().split() #이건 틀림 \n",
    "\n",
    "A = int(A)\n",
    "B = int(B)\n",
    "C = int(C)\n",
    "\n",
    "#1를 더하는 이유는 추가로 1대를 더 팔았을때부터 Break-even Point\n",
    "\n",
    "if C > B:     # C>B으로 하면 ZeroDivisionError 0까지 되므로...\n",
    "    print(int((A/(C-B))+1))\n",
    "else:\n",
    "    print(-1)"
   ]
  }
 ],
 "metadata": {
  "kernelspec": {
   "display_name": "Python 3 (ipykernel)",
   "language": "python",
   "name": "python3"
  },
  "language_info": {
   "codemirror_mode": {
    "name": "ipython",
    "version": 3
   },
   "file_extension": ".py",
   "mimetype": "text/x-python",
   "name": "python",
   "nbconvert_exporter": "python",
   "pygments_lexer": "ipython3",
   "version": "3.9.7"
  }
 },
 "nbformat": 4,
 "nbformat_minor": 5
}
