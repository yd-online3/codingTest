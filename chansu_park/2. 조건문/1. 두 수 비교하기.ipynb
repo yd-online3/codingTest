{
 "cells": [
  {
   "cell_type": "markdown",
   "id": "e471c019",
   "metadata": {},
   "source": [
    "# 1330 두 수 비교하기\n",
    "\n",
    "A,B = map(int,input().split())\n",
    "\n",
    "if A>B:\n",
    "    print('>')\n",
    "elif A<B:\n",
    "    print('<')\n",
    "else:\n",
    "    print('==')\n",
    "    \n"
   ]
  },
  {
   "cell_type": "markdown",
   "id": "17697cdd",
   "metadata": {},
   "source": [
    "틀렸던 이유는 정수로 변환하지 않아서\n",
    "\n",
    "A,B = input().split() 이렇게만 했었음 ㅎ"
   ]
  }
 ],
 "metadata": {
  "kernelspec": {
   "display_name": "Python 3 (ipykernel)",
   "language": "python",
   "name": "python3"
  },
  "language_info": {
   "codemirror_mode": {
    "name": "ipython",
    "version": 3
   },
   "file_extension": ".py",
   "mimetype": "text/x-python",
   "name": "python",
   "nbconvert_exporter": "python",
   "pygments_lexer": "ipython3",
   "version": "3.9.7"
  }
 },
 "nbformat": 4,
 "nbformat_minor": 5
}
