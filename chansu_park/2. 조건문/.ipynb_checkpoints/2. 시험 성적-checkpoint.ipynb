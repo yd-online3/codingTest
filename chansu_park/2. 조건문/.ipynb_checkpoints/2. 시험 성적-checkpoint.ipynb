{
 "cells": [
  {
   "cell_type": "code",
   "execution_count": 3,
   "id": "d1d37ed7",
   "metadata": {},
   "outputs": [
    {
     "name": "stdout",
     "output_type": "stream",
     "text": [
      "100\n",
      "A\n"
     ]
    }
   ],
   "source": [
    "# 9498 시험 성적\n",
    "\n",
    "x = input()\n",
    "A = int(x)\n",
    "\n",
    "if A >= 90:\n",
    "    print('A')\n",
    "elif A >= 80:\n",
    "    print('B')\n",
    "elif A >= 70:\n",
    "    print('C')\n",
    "elif A >= 60:\n",
    "    print('D')\n",
    "else:\n",
    "    print('F')\n",
    "\n"
   ]
  }
 ],
 "metadata": {
  "kernelspec": {
   "display_name": "Python 3 (ipykernel)",
   "language": "python",
   "name": "python3"
  },
  "language_info": {
   "codemirror_mode": {
    "name": "ipython",
    "version": 3
   },
   "file_extension": ".py",
   "mimetype": "text/x-python",
   "name": "python",
   "nbconvert_exporter": "python",
   "pygments_lexer": "ipython3",
   "version": "3.9.7"
  }
 },
 "nbformat": 4,
 "nbformat_minor": 5
}
