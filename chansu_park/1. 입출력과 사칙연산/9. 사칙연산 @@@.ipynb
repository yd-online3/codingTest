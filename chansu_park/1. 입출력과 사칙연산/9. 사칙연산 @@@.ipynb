{
 "cells": [
  {
   "cell_type": "code",
   "execution_count": 10,
   "id": "f5586eba",
   "metadata": {},
   "outputs": [
    {
     "name": "stdout",
     "output_type": "stream",
     "text": [
      "7 3\n",
      "10 \n",
      " 4 \n",
      " 21 \n",
      " 2 \n",
      " 1\n"
     ]
    }
   ],
   "source": [
    "A,B = input().split()\n",
    "\n",
    "print(int(A)+int(B),\"\\n\",int(A)-int(B),\"\\n\",int(A)*int(B),\"\\n\",int(A)//int(B),\"\\n\",int(A)%int(B))"
   ]
  },
  {
   "cell_type": "code",
   "execution_count": null,
   "id": "f0f64d32",
   "metadata": {},
   "outputs": [],
   "source": []
  }
 ],
 "metadata": {
  "kernelspec": {
   "display_name": "Python 3 (ipykernel)",
   "language": "python",
   "name": "python3"
  },
  "language_info": {
   "codemirror_mode": {
    "name": "ipython",
    "version": 3
   },
   "file_extension": ".py",
   "mimetype": "text/x-python",
   "name": "python",
   "nbconvert_exporter": "python",
   "pygments_lexer": "ipython3",
   "version": "3.9.7"
  }
 },
 "nbformat": 4,
 "nbformat_minor": 5
}
