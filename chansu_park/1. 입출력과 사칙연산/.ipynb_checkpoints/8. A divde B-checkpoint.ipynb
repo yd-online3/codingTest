{
 "cells": [
  {
   "cell_type": "code",
   "execution_count": 2,
   "id": "373a8d64",
   "metadata": {},
   "outputs": [
    {
     "name": "stdout",
     "output_type": "stream",
     "text": [
      "1 3\n",
      "0.3333333333333333\n"
     ]
    }
   ],
   "source": [
    "A,B = input().split()\n",
    "print(int(A)/int(B))"
   ]
  },
  {
   "cell_type": "code",
   "execution_count": null,
   "id": "2f0d9b70",
   "metadata": {},
   "outputs": [],
   "source": []
  },
  {
   "cell_type": "code",
   "execution_count": null,
   "id": "c544c75a",
   "metadata": {},
   "outputs": [],
   "source": []
  }
 ],
 "metadata": {
  "kernelspec": {
   "display_name": "Python 3 (ipykernel)",
   "language": "python",
   "name": "python3"
  },
  "language_info": {
   "codemirror_mode": {
    "name": "ipython",
    "version": 3
   },
   "file_extension": ".py",
   "mimetype": "text/x-python",
   "name": "python",
   "nbconvert_exporter": "python",
   "pygments_lexer": "ipython3",
   "version": "3.9.7"
  }
 },
 "nbformat": 4,
 "nbformat_minor": 5
}
