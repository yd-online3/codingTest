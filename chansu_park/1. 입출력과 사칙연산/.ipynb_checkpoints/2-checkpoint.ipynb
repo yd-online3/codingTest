{
 "cells": [
  {
   "cell_type": "code",
   "execution_count": 6,
   "id": "9c50ea67",
   "metadata": {},
   "outputs": [
    {
     "name": "stdout",
     "output_type": "stream",
     "text": [
      "강한친구 대한육군\n",
      "강한친구 대한육군\n"
     ]
    }
   ],
   "source": [
    "# ACM-ICPC 인터넷 예선, Regional, 그리고 World Finals까지 이미 2회씩 진출해버린 kriii는 미련을 버리지 못하고 왠지 모르게 올해에도 파주 World Finals 준비 캠프에 참여했다.\n",
    "\n",
    "# 대회를 뜰 줄 모르는 지박령 kriii를 위해서 격려의 문구를 출력해주자.\n",
    "\n",
    "print('강한친구 대한육군\\n강한친구 대한육군')"
   ]
  },
  {
   "cell_type": "code",
   "execution_count": null,
   "id": "380ea271",
   "metadata": {},
   "outputs": [],
   "source": []
  },
  {
   "cell_type": "code",
   "execution_count": null,
   "id": "c627659e",
   "metadata": {},
   "outputs": [],
   "source": []
  }
 ],
 "metadata": {
  "kernelspec": {
   "display_name": "Python 3 (ipykernel)",
   "language": "python",
   "name": "python3"
  },
  "language_info": {
   "codemirror_mode": {
    "name": "ipython",
    "version": 3
   },
   "file_extension": ".py",
   "mimetype": "text/x-python",
   "name": "python",
   "nbconvert_exporter": "python",
   "pygments_lexer": "ipython3",
   "version": "3.9.7"
  }
 },
 "nbformat": 4,
 "nbformat_minor": 5
}
