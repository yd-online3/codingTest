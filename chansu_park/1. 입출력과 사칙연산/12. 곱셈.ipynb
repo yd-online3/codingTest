{
 "cells": [
  {
   "cell_type": "code",
   "execution_count": 4,
   "id": "253e6739",
   "metadata": {},
   "outputs": [
    {
     "ename": "SyntaxError",
     "evalue": "invalid syntax (CreatorTemp/ipykernel_31440/240675642.py, line 1)",
     "output_type": "error",
     "traceback": [
      "\u001b[1;36m  File \u001b[1;32m\"C:\\Users\\Public\\Documents\\Wondershare\\CreatorTemp/ipykernel_31440/240675642.py\"\u001b[1;36m, line \u001b[1;32m1\u001b[0m\n\u001b[1;33m    a1,a2,a3,b1,b2,b3 = input().split(, 6)\u001b[0m\n\u001b[1;37m                                      ^\u001b[0m\n\u001b[1;31mSyntaxError\u001b[0m\u001b[1;31m:\u001b[0m invalid syntax\n"
     ]
    }
   ],
   "source": [
    "a1,a2,a3,b1,b2,b3 = input().split(, 6)\n",
    "print(a1,a2,a3)\n",
    "print(b1,b2,b3)"
   ]
  },
  {
   "cell_type": "code",
   "execution_count": null,
   "id": "54b5f293",
   "metadata": {},
   "outputs": [],
   "source": []
  },
  {
   "cell_type": "code",
   "execution_count": null,
   "id": "74750409",
   "metadata": {},
   "outputs": [],
   "source": []
  }
 ],
 "metadata": {
  "kernelspec": {
   "display_name": "Python 3 (ipykernel)",
   "language": "python",
   "name": "python3"
  },
  "language_info": {
   "codemirror_mode": {
    "name": "ipython",
    "version": 3
   },
   "file_extension": ".py",
   "mimetype": "text/x-python",
   "name": "python",
   "nbconvert_exporter": "python",
   "pygments_lexer": "ipython3",
   "version": "3.9.7"
  }
 },
 "nbformat": 4,
 "nbformat_minor": 5
}
