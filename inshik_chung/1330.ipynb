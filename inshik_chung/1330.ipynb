{
 "cells": [
  {
   "cell_type": "code",
   "execution_count": 8,
   "metadata": {},
   "outputs": [
    {
     "name": "stdout",
     "output_type": "stream",
     "text": [
      "<\n"
     ]
    }
   ],
   "source": [
    "#Baekjoon 1330\n",
    "\n",
    "\n",
    "a, b = input().split()\n",
    "\n",
    "def comp(a, b):\n",
    "    a = int(a)\n",
    "    b = int(b)\n",
    "    if a>b:\n",
    "        return '>'\n",
    "    elif a<b:\n",
    "        return '<'\n",
    "    else:\n",
    "        return '=='\n",
    "\n",
    "print(comp(a, b))"
   ]
  },
  {
   "cell_type": "code",
   "execution_count": null,
   "metadata": {},
   "outputs": [],
   "source": []
  }
 ],
 "metadata": {
  "interpreter": {
   "hash": "8e29753caa024973ef5a9078849a515dbf3cb6bc59babfc8eb354065d15ce3a6"
  },
  "kernelspec": {
   "display_name": "Python 3.9.10 ('base')",
   "language": "python",
   "name": "python3"
  },
  "language_info": {
   "codemirror_mode": {
    "name": "ipython",
    "version": 3
   },
   "file_extension": ".py",
   "mimetype": "text/x-python",
   "name": "python",
   "nbconvert_exporter": "python",
   "pygments_lexer": "ipython3",
   "version": "3.9.10"
  },
  "orig_nbformat": 4
 },
 "nbformat": 4,
 "nbformat_minor": 2
}
