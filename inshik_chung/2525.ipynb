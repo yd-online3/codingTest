{
 "cells": [
  {
   "cell_type": "code",
   "execution_count": 15,
   "metadata": {},
   "outputs": [
    {
     "name": "stdout",
     "output_type": "stream",
     "text": [
      "0 0\n"
     ]
    }
   ],
   "source": [
    "# Baekjoon https://www.acmicpc.net/problem/2525\n",
    "\n",
    "h, m = input().split()\n",
    "spend_time = int(input())\n",
    "h = int(h)\n",
    "m = int(m)\n",
    "\n",
    "m = m+spend_time\n",
    "\n",
    "if m > 60: #60분 초과 시 처리\n",
    "    addH = int(m / 60)\n",
    "    addM = m % 60\n",
    "    h += addH\n",
    "    m = addM\n",
    "elif m == 60: #60분일 시 0으로 처리\n",
    "    addH = int(m / 60)\n",
    "    h += addH\n",
    "    m = 0\n",
    "\n",
    "\n",
    "\n",
    "if h>= 24:\n",
    "    h-=24\n",
    "\n",
    "print(h , m)\n",
    "\n"
   ]
  },
  {
   "cell_type": "code",
   "execution_count": null,
   "metadata": {},
   "outputs": [],
   "source": []
  },
  {
   "cell_type": "code",
   "execution_count": null,
   "metadata": {},
   "outputs": [],
   "source": []
  }
 ],
 "metadata": {
  "interpreter": {
   "hash": "aee8b7b246df8f9039afb4144a1f6fd8d2ca17a180786b69acc140d282b71a49"
  },
  "kernelspec": {
   "display_name": "Python 3.10.4 64-bit",
   "language": "python",
   "name": "python3"
  },
  "language_info": {
   "codemirror_mode": {
    "name": "ipython",
    "version": 3
   },
   "file_extension": ".py",
   "mimetype": "text/x-python",
   "name": "python",
   "nbconvert_exporter": "python",
   "pygments_lexer": "ipython3",
   "version": "3.10.4"
  },
  "orig_nbformat": 4
 },
 "nbformat": 4,
 "nbformat_minor": 2
}
