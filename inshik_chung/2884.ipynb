{
 "cells": [
  {
   "cell_type": "code",
   "execution_count": 14,
   "metadata": {},
   "outputs": [
    {
     "name": "stdout",
     "output_type": "stream",
     "text": [
      "11 5\n"
     ]
    }
   ],
   "source": [
    "# Baekjoon https://www.acmicpc.net/problem/2884\n",
    "\n",
    "h, m = input().split()\n",
    "\n",
    "h = int(h)\n",
    "m = int(m)\n",
    "\n",
    "\n",
    "def time_changer(h, m):\n",
    "    if m - 45 < 0:\n",
    "        if h==0:\n",
    "            h = 23\n",
    "            m = (m+60)-45\n",
    "            return h, m\n",
    "        else:\n",
    "            h -= 1\n",
    "            m = (m+60)-45\n",
    "            return h, m\n",
    "    else:\n",
    "        return h, m - 45\n",
    "h, m = time_changer(h, m)\n",
    "\n",
    "print(h, m)\n",
    "    "
   ]
  },
  {
   "cell_type": "code",
   "execution_count": null,
   "metadata": {},
   "outputs": [],
   "source": []
  },
  {
   "cell_type": "code",
   "execution_count": null,
   "metadata": {},
   "outputs": [],
   "source": []
  }
 ],
 "metadata": {
  "interpreter": {
   "hash": "aee8b7b246df8f9039afb4144a1f6fd8d2ca17a180786b69acc140d282b71a49"
  },
  "kernelspec": {
   "display_name": "Python 3.10.4 64-bit",
   "language": "python",
   "name": "python3"
  },
  "language_info": {
   "codemirror_mode": {
    "name": "ipython",
    "version": 3
   },
   "file_extension": ".py",
   "mimetype": "text/x-python",
   "name": "python",
   "nbconvert_exporter": "python",
   "pygments_lexer": "ipython3",
   "version": "3.10.4"
  },
  "orig_nbformat": 4
 },
 "nbformat": 4,
 "nbformat_minor": 2
}
